{
  "nbformat": 4,
  "nbformat_minor": 0,
  "metadata": {
    "colab": {
      "name": "competition.ipynb",
      "version": "0.3.2",
      "views": {},
      "default_view": {},
      "provenance": [],
      "collapsed_sections": []
    },
    "kernelspec": {
      "name": "python3",
      "display_name": "Python 3"
    }
  },
  "cells": [
    {
      "metadata": {
        "id": "ikS6y8yBlujt",
        "colab_type": "toc"
      },
      "cell_type": "markdown",
      "source": [
        ">[Import Data](#scrollTo=7ObrGM9SS2HJ&uniqifier=3)\n",
        "\n",
        ">>[Data files organization](#scrollTo=NU8v6KWSlWhc&uniqifier=3)\n",
        "\n",
        ">>[Import data on the fly](#scrollTo=zTr2AKVsqEse&uniqifier=3)\n",
        "\n",
        ">>>[Get URLs of all data files](#scrollTo=zTr2AKVsqEse&uniqifier=3)\n",
        "\n",
        ">>>[CSV file structure](#scrollTo=-Z90s750tuwE&uniqifier=3)\n",
        "\n",
        ">>>[Read and parse all data files](#scrollTo=u5_FYWawqS8X&uniqifier=3)\n",
        "\n",
        ">[Analyse data](#scrollTo=DSdc0ZJzHbtT&uniqifier=3)\n",
        "\n",
        ">>[Exclude subjects without complete data](#scrollTo=4QlcRk3KLYrg&uniqifier=3)\n",
        "\n",
        ">>[Effects of yes\\no reward on nect trial's choice](#scrollTo=JRrIfH4zLxMz&uniqifier=3)\n",
        "\n",
        ">>>[Distribution of rewards per game, across subjects](#scrollTo=LXwyAAS9ZUp2&uniqifier=3)\n",
        "\n",
        ">>>[Effect of reward on next choice](#scrollTo=hGJCauiaZpzi&uniqifier=3)\n",
        "\n",
        ">>>[Effect of NO reward on next choice](#scrollTo=Vz2sZKOwkLT-&uniqifier=3)\n",
        "\n"
      ]
    },
    {
      "metadata": {
        "id": "7ObrGM9SS2HJ",
        "colab_type": "text"
      },
      "cell_type": "markdown",
      "source": [
        "#Import Data \n",
        "The competition data is found in [the competition's GitHub repository](https://github.com/ohaddan/competition), under the [data folder](https://github.com/ohaddan/competition/tree/master/data). \n",
        "\n",
        "The whole repository could be [downloaded as zip](https://github.com/ohaddan/competition/archive/master.zip), or cloned by running the folllowing in your GIT terminal:\n",
        "\n",
        ">`git clone https://github.com/ohaddan/competition.git`\n",
        "\n",
        "Alternatively, data could be fetched on-the-fly,  using [GitHub's REST API](https://developer.github.com/v3/), or  as demonstrated below,  directly from the competition's website."
      ]
    },
    {
      "metadata": {
        "id": "NU8v6KWSlWhc",
        "colab_type": "text"
      },
      "cell_type": "markdown",
      "source": [
        "##Data files organization\n",
        "All data is found under the  [data directory](https://github.com/ohaddan/competition/tree/master/data), each of its sub-directories contain results from a specific allocation protocol. Each of the model directories holds CSV files, each representing the experimental behavior of a single subject.\n",
        "\n",
        "\n",
        "\n",
        "---\n",
        "\n",
        "\n",
        "\n",
        "├── data\n",
        "\n",
        "\n",
        "│┉┉├── model_0\n",
        "\n",
        "│┉┉┉┉├── *user_id_0*.csv\n",
        "\n",
        "│┉┉┉┉└── *user_id_1*.csv\n",
        "\n",
        "│┉┉┉┉└──   ...\n",
        "\n",
        "│┉┉└── model_1\n",
        "\n",
        "│┉┉┉┉├── *user_id_0*.csv\n",
        "\n",
        "│┉┉┉┉└── *user_id_1*.csv\n",
        "\n",
        "│┉┉┉┉└──   ...\n",
        "\n",
        "\n",
        "\n"
      ]
    },
    {
      "metadata": {
        "id": "zTr2AKVsqEse",
        "colab_type": "text"
      },
      "cell_type": "markdown",
      "source": [
        "##Import data on the fly\n",
        "### Get URLs of all data files\n",
        "\n",
        "[This link](http://decision-making-lab.com/visual_experiment/cmptn_remote/api/get_all_sequnces.php) returns the URLs of all CSV filesholding subjects data. \n",
        "\n",
        "The URLs are in the following structure: \n",
        "\n",
        "    BASE_URL/is_staic/model_name/user_id.csv\n",
        "    \n",
        "  Where:\n",
        "  \n",
        "\n",
        "1.  **is_staic**: gets ones of the values {*STATIC*, *DYNAMIC*}, representing whether the model is static or dynamic (see [competition description](http://decision-making-lab.com/competition/Submit.html)).\n",
        "2.  ** model_name**: is the name of the model used for reward allocation.\n",
        "3. **user_id**: is an identifier of the specific user whose results in current file.\n",
        "\n",
        "\n",
        "    "
      ]
    },
    {
      "metadata": {
        "id": "_Ez3x9DIi-v_",
        "colab_type": "code",
        "colab": {
          "autoexec": {
            "startup": false,
            "wait_interval": 0
          }
        }
      },
      "cell_type": "code",
      "source": [
        "import requests\n",
        "import json\n",
        "\n",
        "STATIC = 'STATIC'\n",
        "DYNAMIC = 'DYNAMIC'\n",
        "URLS = \"URLs\"\n",
        "\n",
        "def parse_url(url):\n",
        "  split_url = url.split('/')\n",
        "  \n",
        "  csv_name = split_url[-1]  \n",
        "  model_name = split_url[-2]\n",
        "  is_static = STATIC if (split_url[-3] == STATIC) else DYNAMIC\n",
        "  return is_static, model_name, csv_name\n",
        "\n",
        "GET_CSV_LIST_URL = 'http://decision-making-lab.com/visual_experiment/cmptn_remote/api/get_all_sequnces.php'\n",
        "csv_url_list = requests.get(GET_CSV_LIST_URL)\n",
        "csv_urls = json.loads(csv_url_list.content)\n",
        "urls = {STATIC: {}, DYNAMIC: {}};\n",
        "for url in csv_urls:\n",
        "  is_static, model_name, csv_name = parse_url(url)\n",
        "  if 'csv' in url:\n",
        "      if model_name not in urls[is_static]:\n",
        "        urls[is_static][model_name] = {}\n",
        "        urls[is_static][model_name][URLS] = set()\n",
        "      urls[is_static][model_name][URLS].add(url)"
      ],
      "execution_count": 0,
      "outputs": []
    },
    {
      "metadata": {
        "id": "-Z90s750tuwE",
        "colab_type": "text"
      },
      "cell_type": "markdown",
      "source": [
        "###CSV file structure\n",
        "\n",
        "\n",
        "**Example**:\n",
        "\n",
        "| trial_number | time                  | schedule_type | schedule_name | is_biased_choice | side_choice | Reaction time | observed_reward | unobserved_reward | biased_reward | unbiased_reward |\n",
        "|--------------|-----------------------|---------------|---------------|------------------|-------------|---------------|-----------------|-------------------|---------------|-----------------|\n",
        "| 0            | 2018-07-29 03:46:24pm | STATIC        | random_0      | false            | LEFT        | 5874          | 1               | 0                 | 0             | 1               |\n",
        "| 1            | 2018-07-29 03:46:27pm | STATIC        | random_0      | false            | LEFT        | 3021          | 1               | 1                 | 1             | 1               |\n",
        "| 2            | 2018-07-29 03:46:31pm | STATIC        | random_0      | true             | RIGHT       | 3250          | 0               | 1                 | 1             | 0               |"
      ]
    },
    {
      "metadata": {
        "id": "u5_FYWawqS8X",
        "colab_type": "text"
      },
      "cell_type": "markdown",
      "source": [
        "###Read and parse all data files"
      ]
    },
    {
      "metadata": {
        "id": "LyPIxLyxqX4J",
        "colab_type": "code",
        "colab": {
          "autoexec": {
            "startup": false,
            "wait_interval": 0
          },
          "base_uri": "https://localhost:8080/",
          "height": 72
        },
        "outputId": "9acf3687-943b-4e2b-e4c5-3bc3a347db9b",
        "executionInfo": {
          "status": "ok",
          "timestamp": 1533718267261,
          "user_tz": -180,
          "elapsed": 8311,
          "user": {
            "displayName": "Ohad Dan",
            "photoUrl": "//lh6.googleusercontent.com/-fIdQGjM57I8/AAAAAAAAAAI/AAAAAAAANVk/cF7FdkhqOqs/s50-c-k-no/photo.jpg",
            "userId": "105126893045242892510"
          }
        }
      },
      "cell_type": "code",
      "source": [
        "import csv\n",
        "import pandas as pd\n",
        "USERS = 'users'\n",
        "is_static = STATIC\n",
        "users_data = {}\n",
        "users_data[is_static] = {}\n",
        "\n",
        "for model in urls[is_static].keys():\n",
        "  if model not in users_data.keys():\n",
        "    users_data[is_static][model] = {}\n",
        "    users_data[is_static][model][USERS] = []\n",
        "  current_model_urls = urls[is_static][model][URLS]\n",
        "  for current_model_url in current_model_urls:\n",
        "    data_frame = pd.read_csv(current_model_url, delimiter=', ')\n",
        "\n",
        "    (num_cols, num_rows) = data_frame.shape\n",
        "    num_trials = num_cols + 1\n",
        "    current_user = {}\n",
        "    current_user['is_biased_choice'] = data_frame['is_biased_choice']\n",
        "    current_user['observed_reward'] = data_frame['observed_reward']\n",
        "    users_data[is_static][model][USERS].append(current_user)\n"
      ],
      "execution_count": 3,
      "outputs": [
        {
          "output_type": "stream",
          "text": [
            "/usr/local/lib/python3.6/dist-packages/ipykernel_launcher.py:14: ParserWarning: Falling back to the 'python' engine because the 'c' engine does not support regex separators (separators > 1 char and different from '\\s+' are interpreted as regex); you can avoid this warning by specifying engine='python'.\n",
            "  \n"
          ],
          "name": "stderr"
        }
      ]
    },
    {
      "metadata": {
        "id": "DSdc0ZJzHbtT",
        "colab_type": "text"
      },
      "cell_type": "markdown",
      "source": [
        "#Analyse data\n"
      ]
    },
    {
      "metadata": {
        "id": "4QlcRk3KLYrg",
        "colab_type": "text"
      },
      "cell_type": "markdown",
      "source": [
        "## Exclude subjects without complete data"
      ]
    },
    {
      "metadata": {
        "id": "K1IcYaZSHd60",
        "colab_type": "code",
        "colab": {
          "autoexec": {
            "startup": false,
            "wait_interval": 0
          }
        }
      },
      "cell_type": "code",
      "source": [
        "MIN_TRIALS_FOR_VALID_USER = 95\n",
        "\n",
        "all_users = []\n",
        "for model in users_data[is_static].keys():\n",
        "  all_users.extend(users_data[is_static][model][USERS])\n",
        "\n",
        "completed_users = [user for user in all_users if \n",
        "                   user['is_biased_choice'].size > MIN_TRIALS_FOR_VALID_USER]\n",
        "number_of_completed_users = len(completed_users)\n",
        "  "
      ],
      "execution_count": 0,
      "outputs": []
    },
    {
      "metadata": {
        "id": "JRrIfH4zLxMz",
        "colab_type": "text"
      },
      "cell_type": "markdown",
      "source": [
        "##Effects of yes\\no reward on nect trial's choice"
      ]
    },
    {
      "metadata": {
        "id": "CNDFDMucLwIr",
        "colab_type": "code",
        "colab": {
          "autoexec": {
            "startup": false,
            "wait_interval": 0
          }
        }
      },
      "cell_type": "code",
      "source": [
        "REWARD = 1\n",
        "NO_REWARD = 0\n",
        "number_of_rewards = []\n",
        "is_same_chioce_after_reward_all_users = []\n",
        "is_switch_after_no_reward_all_users = []\n",
        "\n",
        "for user in completed_users:\n",
        "  rewarded_trials_indices = [index for index, is_reward in \n",
        "                           enumerate(user['observed_reward']) \n",
        "                           if is_reward == REWARD]\n",
        "  \n",
        "  number_of_rewards.append(len(rewarded_trials_indices))\n",
        "  \n",
        "  is_same_chioce_after_reward = [\n",
        "      user['is_biased_choice'][reward_index]==\n",
        "      user['is_biased_choice'][reward_index+1] \n",
        "      for reward_index in rewarded_trials_indices\n",
        "      if reward_index < (len(user['is_biased_choice'])-2)]\n",
        "  is_same_chioce_after_reward_all_users.append(is_same_chioce_after_reward)\n",
        "\n",
        "  unrewarded_trials_indices = [index for index, is_reward in \n",
        "                           enumerate(user['observed_reward']) \n",
        "                           if is_reward == NO_REWARD]\n",
        "  is_switch_after_no_reward = [\n",
        "      user['is_biased_choice'][no_reward_index]!=\n",
        "      user['is_biased_choice'][no_reward_index+1] \n",
        "      for no_reward_index in unrewarded_trials_indices\n",
        "      if no_reward_index < (len(user['is_biased_choice'])-2)]\n",
        "  is_switch_after_no_reward_all_users.append(is_switch_after_no_reward)\n",
        "\n",
        "\n"
      ],
      "execution_count": 0,
      "outputs": []
    },
    {
      "metadata": {
        "id": "LXwyAAS9ZUp2",
        "colab_type": "text"
      },
      "cell_type": "markdown",
      "source": [
        "### Distribution of rewards per game, across subjects"
      ]
    },
    {
      "metadata": {
        "id": "FJJsuVhYY45S",
        "colab_type": "code",
        "colab": {
          "autoexec": {
            "startup": false,
            "wait_interval": 0
          },
          "base_uri": "https://localhost:8080/",
          "height": 361
        },
        "outputId": "68a47cdc-c137-4870-8e50-012520cc72ce",
        "executionInfo": {
          "status": "ok",
          "timestamp": 1533718270255,
          "user_tz": -180,
          "elapsed": 1187,
          "user": {
            "displayName": "Ohad Dan",
            "photoUrl": "//lh6.googleusercontent.com/-fIdQGjM57I8/AAAAAAAAAAI/AAAAAAAANVk/cF7FdkhqOqs/s50-c-k-no/photo.jpg",
            "userId": "105126893045242892510"
          }
        }
      },
      "cell_type": "code",
      "source": [
        "import matplotlib.pyplot as plt\n",
        "\n",
        "plt.hist(number_of_rewards, normed=True, bins=10)\n",
        "plt.ylabel('Normalized frequency');\n",
        "plt.xlabel(\"Subject's Number of rewards\");"
      ],
      "execution_count": 6,
      "outputs": [
        {
          "output_type": "display_data",
          "data": {
            "image/png": "[encoded data removed]",
            "text/plain": [
              "<matplotlib.figure.Figure at 0x7fa81e7ae2e8>"
            ]
          },
          "metadata": {
            "tags": []
          }
        }
      ]
    },
    {
      "metadata": {
        "id": "hGJCauiaZpzi",
        "colab_type": "text"
      },
      "cell_type": "markdown",
      "source": [
        "###Effect of reward on next choice"
      ]
    },
    {
      "metadata": {
        "id": "t_hruSNwZ3xh",
        "colab_type": "code",
        "colab": {
          "autoexec": {
            "startup": false,
            "wait_interval": 0
          },
          "base_uri": "https://localhost:8080/",
          "height": 736
        },
        "outputId": "e7cef52d-b6bd-49bf-f97f-b751f8fcf4a4",
        "executionInfo": {
          "status": "ok",
          "timestamp": 1533718271732,
          "user_tz": -180,
          "elapsed": 1398,
          "user": {
            "displayName": "Ohad Dan",
            "photoUrl": "//lh6.googleusercontent.com/-fIdQGjM57I8/AAAAAAAAAAI/AAAAAAAANVk/cF7FdkhqOqs/s50-c-k-no/photo.jpg",
            "userId": "105126893045242892510"
          }
        }
      },
      "cell_type": "code",
      "source": [
        "import numpy as np\n",
        "from scipy import stats\n",
        "\n",
        "is_same_chioce_after_reward_each_user_average = [\n",
        "  np.mean(user_is_same_choice) \n",
        "  for user_is_same_choice in is_same_chioce_after_reward_all_users]\n",
        "\n",
        "# Probability per subject (distribution)\n",
        "plt.ylabel('Frequency');\n",
        "plt.xlabel('P(same choice after reward)');\n",
        "plt.axvline(x=0.5,linewidth=1, color='r', dashes=[6, 2])\n",
        "plt.title('Per subject probability of reward inducing same choice - distribution')\n",
        "plt.hist(is_same_chioce_after_reward_each_user_average, bins=10)\n",
        "\n",
        "\n",
        "# Probability across all subjects (mean)\n",
        "plt.figure()\n",
        "all_users_choices = [is_same_choice \n",
        "             for user in is_same_chioce_after_reward_all_users \n",
        "             for is_same_choice in user]\n",
        "plt.bar(1, np.mean(all_users_choices), width=0.2)\n",
        "plt.errorbar(1, np.mean(all_users_choices), stats.sem(all_users_choices), color=\"black\")\n",
        "plt.axhline(y=0.5,linewidth=1, color='r', dashes=[6, 2])\n",
        "plt.xlim(.5,1.5)\n",
        "plt.ylim(0,1)\n",
        "plt.legend(['Chance','Mean','SEM'])\n",
        "plt.title('P(reward causes same choice) across all decisions')\n",
        "plt.ylabel('Probability');\n",
        "plt.xlabel('P(same choice after reward)');\n",
        "\n"
      ],
      "execution_count": 7,
      "outputs": [
        {
          "output_type": "display_data",
          "data": {
            "image/png": "[encoded data removed]",
            "text/plain": [
              "<matplotlib.figure.Figure at 0x7fa81e701438>"
            ]
          },
          "metadata": {
            "tags": []
          }
        },
        {
          "output_type": "display_data",
          "data": {
            "image/png": "[encoded data removed]",
            "text/plain": [
              "<matplotlib.figure.Figure at 0x7fa81c6b4828>"
            ]
          },
          "metadata": {
            "tags": []
          }
        }
      ]
    },
    {
      "metadata": {
        "id": "Vz2sZKOwkLT-",
        "colab_type": "text"
      },
      "cell_type": "markdown",
      "source": [
        "###Effect of NO reward on next choice"
      ]
    },
    {
      "metadata": {
        "id": "ynz5F2tnkX1w",
        "colab_type": "code",
        "colab": {
          "autoexec": {
            "startup": false,
            "wait_interval": 0
          },
          "base_uri": "https://localhost:8080/",
          "height": 736
        },
        "outputId": "34136e7c-c855-4790-9322-c15930176888",
        "executionInfo": {
          "status": "ok",
          "timestamp": 1533718272989,
          "user_tz": -180,
          "elapsed": 1204,
          "user": {
            "displayName": "Ohad Dan",
            "photoUrl": "//lh6.googleusercontent.com/-fIdQGjM57I8/AAAAAAAAAAI/AAAAAAAANVk/cF7FdkhqOqs/s50-c-k-no/photo.jpg",
            "userId": "105126893045242892510"
          }
        }
      },
      "cell_type": "code",
      "source": [
        "PLOT_IS_SWITCH_AFTER_NO_REWARD = False # if false, plot is *stay* after no reward\n",
        "\n",
        "is_switch_after_no_reward_each_user_average = [\n",
        "  np.mean(user_is_switch) \n",
        "  for user_is_switch in is_switch_after_no_reward_all_users]\n",
        "\n",
        "is_stay_after_no_reward_each_user_average = [\n",
        "  1-np.mean(user_is_switch) \n",
        "  for user_is_switch in is_switch_after_no_reward_all_users]\n",
        "\n",
        "\n",
        "# Probability per subject (distribution)\n",
        "if PLOT_IS_SWITCH_AFTER_NO_REWARD:\n",
        "  plt.hist(is_switch_after_no_reward_each_user_average, bins=10)\n",
        "  plt.title('Per subject probability of no reward inducing switch - distribution')\n",
        "  plt.xlabel('P(Switch after no reward)');\n",
        "\n",
        "else:\n",
        "  plt.hist(is_stay_after_no_reward_each_user_average, bins=10)\n",
        "  plt.title('Per subject probability of no reward inducing stay - distribution')\n",
        "  plt.xlabel('P(Stay after no reward)');\n",
        "\n",
        "plt.ylabel('Frequency');\n",
        "plt.axvline(x=0.5,linewidth=1, color='r', dashes=[6, 2])\n",
        "\n",
        "\n",
        "# Probability across all subjects (mean)\n",
        "plt.figure()\n",
        "all_users_is_switch = [is_switch \n",
        "             for user in is_switch_after_no_reward_all_users \n",
        "             for is_switch in user]\n",
        "\n",
        "all_users_is_stay_after_no_reward = [not is_switch\n",
        "             for user in is_switch_after_no_reward_all_users \n",
        "             for is_switch in user]\n",
        "if PLOT_IS_SWITCH_AFTER_NO_REWARD:\n",
        "  plt.bar(1, np.mean(all_users_is_switch), width=0.2)\n",
        "  plt.errorbar(1, np.mean(all_users_is_switch), \n",
        "               stats.sem(all_users_is_switch), color=\"black\")\n",
        "  plt.title('P(no reward causes switch) across all decisions')\n",
        "  plt.xlabel('P(switch after no reward)');\n",
        "\n",
        "else:\n",
        "  plt.bar(1, np.mean(all_users_is_stay_after_no_reward), width=0.2)\n",
        "  plt.errorbar(1, np.mean(all_users_is_stay_after_no_reward), \n",
        "               stats.sem(all_users_is_stay_after_no_reward), color=\"black\")\n",
        "  plt.title('P(no reward causes stay) across all decisions')\n",
        "  plt.xlabel('P(stay after no reward)');\n",
        "\n",
        "\n",
        "plt.axhline(y=0.5,linewidth=1, color='r', dashes=[6, 2])\n",
        "plt.xlim(.5,1.5)\n",
        "plt.ylim(0,1)\n",
        "plt.legend(['Chance','Mean','SEM'])\n",
        "plt.ylabel('Probability');\n",
        "\n"
      ],
      "execution_count": 8,
      "outputs": [
        {
          "output_type": "display_data",
          "data": {
            "image/png": "[encoded data removed]",
            "text/plain": [
              "<matplotlib.figure.Figure at 0x7fa81e767b38>"
            ]
          },
          "metadata": {
            "tags": []
          }
        },
        {
          "output_type": "display_data",
          "data": {
            "image/png": "[encoded data removed]",
            "text/plain": [
              "<matplotlib.figure.Figure at 0x7fa81c66ae10>"
            ]
          },
          "metadata": {
            "tags": []
          }
        }
      ]
    },
    {
      "metadata": {
        "id": "WYWlphFLpzoc",
        "colab_type": "code",
        "colab": {
          "autoexec": {
            "startup": false,
            "wait_interval": 0
          },
          "base_uri": "https://localhost:8080/",
          "height": 397
        },
        "outputId": "5e3fb8e9-fc99-45b2-d1b4-738ce7d9eea6",
        "executionInfo": {
          "status": "ok",
          "timestamp": 1533718671799,
          "user_tz": -180,
          "elapsed": 625,
          "user": {
            "displayName": "Ohad Dan",
            "photoUrl": "//lh6.googleusercontent.com/-fIdQGjM57I8/AAAAAAAAAAI/AAAAAAAANVk/cF7FdkhqOqs/s50-c-k-no/photo.jpg",
            "userId": "105126893045242892510"
          }
        }
      },
      "cell_type": "code",
      "source": [
        "mean_after_reward = np.mean(all_users_choices)\n",
        "sem_after_reward = stats.sem(all_users_choices)\n",
        "mean_after_no_reward = np.mean(all_users_is_stay_after_no_reward)\n",
        "sem_after_no_reward = stats.sem(all_users_is_stay_after_no_reward)\n",
        "\n",
        "\n",
        "plt.bar([1, 2], [mean_after_reward, mean_after_no_reward], width=0.2)\n",
        "plt.errorbar([1, 2], [mean_after_reward, mean_after_no_reward],\n",
        "             [sem_after_reward, sem_after_no_reward], color=\"black\")\n",
        "plt.axhline(y=0.5,linewidth=1, color='r', dashes=[6, 2])\n",
        "\n",
        "plt.title('P[stay(t)|reward(t-1)]')\n",
        "plt.ylabel('P[stay(t)]');\n",
        "plt.xticks([1, 2], ['reward(t-1)', 'no reward(t-1)'])\n",
        "  \n",
        "percentage_behavioral_change = 100*(np.mean(all_users_choices) - (1-np.mean(all_users_is_switch)))\n",
        "print('Outcome causes same sequential choice (REWARD-NO_REWARD):', round(percentage_behavioral_change,2), '%')\n",
        "plt.xlim(0,3)"
      ],
      "execution_count": 13,
      "outputs": [
        {
          "output_type": "stream",
          "text": [
            "Outcome causes same sequential choice (REWARD-NO_REWARD): 0.37 %\n"
          ],
          "name": "stdout"
        },
        {
          "output_type": "execute_result",
          "data": {
            "text/plain": [
              "(0, 3)"
            ]
          },
          "metadata": {
            "tags": []
          },
          "execution_count": 13
        },
        {
          "output_type": "display_data",
          "data": {
            "image/png": "[encoded data removed]",
            "text/plain": [
              "<matplotlib.figure.Figure at 0x7fa81c59d978>"
            ]
          },
          "metadata": {
            "tags": []
          }
        }
      ]
    }
  ]
}